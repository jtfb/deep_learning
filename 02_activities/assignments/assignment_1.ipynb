{
 "cells": [
  {
   "cell_type": "markdown",
   "id": "ba8ab56f",
   "metadata": {},
   "source": [
    "# Advanced Image Classification with ImageNet"
   ]
  },
  {
   "cell_type": "markdown",
   "id": "7c630244b8fe2847",
   "metadata": {
    "collapsed": false
   },
   "source": [
    "In this assignment, you will be asked to develop a convolutional neural network (CNN) to classify images from the CIFAR-100 dataset. At each step, you'll be guided through the process of developing a model architecture to solve a problem. Your goal is to create a CNN that attains at least 55% accuracy on the validation set.\n",
    "\n",
    "### The CIFAR-100 Dataset\n",
    "\n",
    "The [CIFAR-100 dataset](https://www.cs.toronto.edu/~kriz/cifar.html) consists of 60000 32x32 colour images in 100 classes, with 600 images per class. There are 50000 training images and 10000 test images. The dataset is divided into five training batches and one test batch, each with 10000 images. The test batch contains exactly 1000 randomly-selected images from each class. The training batches contain the remaining images in random order, but some training batches may contain more images from one class than another. Between them, the training batches contain exactly 500 images from each class.\n",
    "\n",
    "### Tools\n",
    "\n",
    "You will use Keras with TensorFlow to develop your CNN. For this assignment, it's strongly recommended that you use a GPU to accelerate your training, or else you might find it difficult to train your network in a reasonable amount of time. If you have a computer with a GPU that you wish to use, you can follow the [TensorFlow instructions](https://www.tensorflow.org/install/) for installing TensorFlow with GPU support. Otherwise, you can use [Google Colab](https://colab.research.google.com/) to complete this assignment. Colab provides free access to GPU-enabled machines. If you run into any issues, please contact us as soon as possible so that we can help you resolve them."
   ]
  },
  {
   "cell_type": "markdown",
   "id": "fab62988ece1528d",
   "metadata": {
    "collapsed": false
   },
   "source": [
    "## Task 1: Data Exploration and Preprocessing (Complete or Incomplete)\n",
    "### 1a: Load and Explore the Dataset\n",
    "- Use the code below to download the dataset.\n",
    "- Explore the dataset: examine the shape of the training and test sets, the dimensions of the images, and the number of classes. Show a few examples from the training set."
   ]
  },
  {
   "cell_type": "code",
   "execution_count": 33,
   "id": "8820fcdc5ae52ae2",
   "metadata": {
    "ExecuteTime": {
     "start_time": "2024-01-26T17:04:08.432758Z"
    },
    "collapsed": false,
    "is_executing": true
   },
   "outputs": [],
   "source": [
    "from keras.datasets import cifar100\n",
    "\n",
    "# Load the CIFAR-100 dataset\n",
    "(X_train, y_train), (X_test, y_test) = cifar100.load_data(label_mode='fine')"
   ]
  },
  {
   "cell_type": "code",
   "execution_count": 34,
   "id": "a386b4072078138f",
   "metadata": {
    "collapsed": false
   },
   "outputs": [
    {
     "name": "stdout",
     "output_type": "stream",
     "text": [
      "X_train shape: (50000, 32, 32, 3)\n",
      "y_train shape: (50000, 1)\n"
     ]
    },
    {
     "data": {
      "text/plain": [
       "array([19])"
      ]
     },
     "execution_count": 34,
     "metadata": {},
     "output_type": "execute_result"
    }
   ],
   "source": [
    "# Your code here\n",
    "print(f'X_train shape: {X_train.shape}')\n",
    "print(f'y_train shape: {y_train.shape}')\n",
    "\n",
    "y_train[0]"
   ]
  },
  {
   "cell_type": "markdown",
   "id": "ad49291da3a819ea",
   "metadata": {
    "collapsed": false
   },
   "source": [
    "### 1b: Data Preprocessing (4 Marks)\n",
    "- With the data downloaded, it's time to preprocess it. Start by normalizing the images so that they all have pixel values in the range [0, 1].\n",
    "- Next, convert the labels to one-hot encoded vectors.\n",
    "- Finally, split the training set into training and validation sets. Use 80% of the training set for training and the remaining 20% for validation."
   ]
  },
  {
   "cell_type": "code",
   "execution_count": 36,
   "id": "b18c10172fa72d0c",
   "metadata": {
    "collapsed": false
   },
   "outputs": [
    {
     "name": "stdout",
     "output_type": "stream",
     "text": [
      "Min pixel value: 0.0\n",
      "Max pixel value: 1.0\n",
      "Unique labels in y_train: [ 0  1  2  3  4  5  6  7  8  9 10 11 12 13 14 15 16 17 18 19 20 21 22 23\n",
      " 24 25 26 27 28 29 30 31 32 33 34 35 36 37 38 39 40 41 42 43 44 45 46 47\n",
      " 48 49 50 51 52 53 54 55 56 57 58 59 60 61 62 63 64 65 66 67 68 69 70 71\n",
      " 72 73 74 75 76 77 78 79 80 81 82 83 84 85 86 87 88 89 90 91 92 93 94 95\n",
      " 96 97 98 99]\n"
     ]
    },
    {
     "data": {
      "text/plain": [
       "array([[[[0.09019608, 0.05490196, 0.03529412],\n",
       "         [0.09019608, 0.05882353, 0.03921569],\n",
       "         [0.09411765, 0.05882353, 0.03921569],\n",
       "         ...,\n",
       "         [0.06666667, 0.07843138, 0.05882353],\n",
       "         [0.0627451 , 0.08627451, 0.0627451 ],\n",
       "         [0.05882353, 0.09019608, 0.0627451 ]],\n",
       "\n",
       "        [[0.09019608, 0.05490196, 0.03529412],\n",
       "         [0.09019608, 0.05490196, 0.03921569],\n",
       "         [0.09411765, 0.05882353, 0.03921569],\n",
       "         ...,\n",
       "         [0.0627451 , 0.07450981, 0.05490196],\n",
       "         [0.0627451 , 0.08627451, 0.05882353],\n",
       "         [0.05882353, 0.09019608, 0.0627451 ]],\n",
       "\n",
       "        [[0.09411765, 0.05882353, 0.03921569],\n",
       "         [0.09411765, 0.05882353, 0.03921569],\n",
       "         [0.09411765, 0.05882353, 0.03921569],\n",
       "         ...,\n",
       "         [0.0627451 , 0.07843138, 0.05490196],\n",
       "         [0.06666667, 0.09019608, 0.0627451 ],\n",
       "         [0.0627451 , 0.09411765, 0.06666667]],\n",
       "\n",
       "        ...,\n",
       "\n",
       "        [[0.7490196 , 0.29803923, 0.07843138],\n",
       "         [0.7921569 , 0.34901962, 0.07450981],\n",
       "         [0.8117647 , 0.36862746, 0.11372549],\n",
       "         ...,\n",
       "         [0.10588235, 0.11372549, 0.07450981],\n",
       "         [0.09803922, 0.11764706, 0.04313726],\n",
       "         [0.08627451, 0.11372549, 0.03137255]],\n",
       "\n",
       "        [[0.7019608 , 0.22745098, 0.05882353],\n",
       "         [0.8627451 , 0.39607844, 0.12941177],\n",
       "         [0.84313726, 0.36862746, 0.13333334],\n",
       "         ...,\n",
       "         [0.11764706, 0.10196079, 0.07450981],\n",
       "         [0.10588235, 0.12156863, 0.03921569],\n",
       "         [0.08627451, 0.12156863, 0.01176471]],\n",
       "\n",
       "        [[0.7294118 , 0.25490198, 0.06666667],\n",
       "         [0.9098039 , 0.43529412, 0.14901961],\n",
       "         [0.8117647 , 0.32156864, 0.08627451],\n",
       "         ...,\n",
       "         [0.29803923, 0.25490198, 0.07843138],\n",
       "         [0.12156863, 0.11372549, 0.04705882],\n",
       "         [0.09019608, 0.11372549, 0.04313726]]],\n",
       "\n",
       "\n",
       "       [[[0.45882353, 0.45882353, 0.4627451 ],\n",
       "         [0.4       , 0.40784314, 0.36862746],\n",
       "         [0.40392157, 0.41568628, 0.35686275],\n",
       "         ...,\n",
       "         [0.4745098 , 0.46666667, 0.4745098 ],\n",
       "         [0.48235294, 0.4745098 , 0.47843137],\n",
       "         [0.4862745 , 0.48235294, 0.47843137]],\n",
       "\n",
       "        [[0.47058824, 0.47843137, 0.48235294],\n",
       "         [0.3137255 , 0.30980393, 0.3019608 ],\n",
       "         [0.32156864, 0.30588236, 0.2784314 ],\n",
       "         ...,\n",
       "         [0.4627451 , 0.45490196, 0.4627451 ],\n",
       "         [0.47843137, 0.47058824, 0.4745098 ],\n",
       "         [0.47843137, 0.4745098 , 0.46666667]],\n",
       "\n",
       "        [[0.4862745 , 0.5019608 , 0.50980395],\n",
       "         [0.3529412 , 0.3372549 , 0.35686275],\n",
       "         [0.3137255 , 0.2784314 , 0.2784314 ],\n",
       "         ...,\n",
       "         [0.46666667, 0.45882353, 0.45490196],\n",
       "         [0.4627451 , 0.45882353, 0.4509804 ],\n",
       "         [0.47843137, 0.4745098 , 0.46666667]],\n",
       "\n",
       "        ...,\n",
       "\n",
       "        [[0.7490196 , 0.76862746, 0.78431374],\n",
       "         [0.76862746, 0.77254903, 0.8       ],\n",
       "         [0.80784315, 0.8039216 , 0.827451  ],\n",
       "         ...,\n",
       "         [0.56078434, 0.54509807, 0.52156866],\n",
       "         [0.5019608 , 0.47843137, 0.44313726],\n",
       "         [0.4862745 , 0.4509804 , 0.4117647 ]],\n",
       "\n",
       "        [[0.7019608 , 0.7176471 , 0.7372549 ],\n",
       "         [0.7647059 , 0.77254903, 0.8       ],\n",
       "         [0.7764706 , 0.78039217, 0.80784315],\n",
       "         ...,\n",
       "         [0.5529412 , 0.54509807, 0.52156866],\n",
       "         [0.49411765, 0.4745098 , 0.4392157 ],\n",
       "         [0.4862745 , 0.45882353, 0.41568628]],\n",
       "\n",
       "        [[0.5921569 , 0.6       , 0.61960787],\n",
       "         [0.6627451 , 0.6745098 , 0.69411767],\n",
       "         [0.7372549 , 0.7490196 , 0.7647059 ],\n",
       "         ...,\n",
       "         [0.54901963, 0.54509807, 0.5254902 ],\n",
       "         [0.49411765, 0.48235294, 0.45490196],\n",
       "         [0.4862745 , 0.4627451 , 0.42352942]]],\n",
       "\n",
       "\n",
       "       [[[0.28627452, 0.3764706 , 0.11372549],\n",
       "         [0.2627451 , 0.34509805, 0.10588235],\n",
       "         [0.30980393, 0.40392157, 0.12156863],\n",
       "         ...,\n",
       "         [0.5137255 , 0.63529414, 0.21176471],\n",
       "         [0.52156866, 0.6392157 , 0.21960784],\n",
       "         [0.52156866, 0.63529414, 0.22745098]],\n",
       "\n",
       "        [[0.28235295, 0.3882353 , 0.10196079],\n",
       "         [0.26666668, 0.37254903, 0.10196079],\n",
       "         [0.26666668, 0.36078432, 0.10196079],\n",
       "         ...,\n",
       "         [0.24313726, 0.3372549 , 0.09803922],\n",
       "         [0.24313726, 0.3372549 , 0.09803922],\n",
       "         [0.2509804 , 0.34509805, 0.08627451]],\n",
       "\n",
       "        [[0.23921569, 0.33333334, 0.09411765],\n",
       "         [0.25490198, 0.34901962, 0.10196079],\n",
       "         [0.28235295, 0.37254903, 0.11372549],\n",
       "         ...,\n",
       "         [0.4627451 , 0.5686275 , 0.19215687],\n",
       "         [0.4509804 , 0.5686275 , 0.17254902],\n",
       "         [0.44313726, 0.5647059 , 0.15686275]],\n",
       "\n",
       "        ...,\n",
       "\n",
       "        [[0.40392157, 0.38431373, 0.33333334],\n",
       "         [0.4117647 , 0.3764706 , 0.2901961 ],\n",
       "         [0.46666667, 0.3764706 , 0.1764706 ],\n",
       "         ...,\n",
       "         [0.43529412, 0.3254902 , 0.24313726],\n",
       "         [0.42352942, 0.28627452, 0.19215687],\n",
       "         [0.4862745 , 0.34509805, 0.2509804 ]],\n",
       "\n",
       "        [[0.4117647 , 0.39607844, 0.3137255 ],\n",
       "         [0.39215687, 0.38039216, 0.31764707],\n",
       "         [0.3882353 , 0.32156864, 0.18431373],\n",
       "         ...,\n",
       "         [0.49411765, 0.38431373, 0.29803923],\n",
       "         [0.44313726, 0.28627452, 0.19607843],\n",
       "         [0.54509807, 0.3647059 , 0.28235295]],\n",
       "\n",
       "        [[0.41568628, 0.4       , 0.32156864],\n",
       "         [0.38039216, 0.36862746, 0.29803923],\n",
       "         [0.40392157, 0.3372549 , 0.20784314],\n",
       "         ...,\n",
       "         [0.5058824 , 0.39215687, 0.30588236],\n",
       "         [0.44313726, 0.30588236, 0.21176471],\n",
       "         [0.54901963, 0.3764706 , 0.2901961 ]]],\n",
       "\n",
       "\n",
       "       ...,\n",
       "\n",
       "\n",
       "       [[[0.8392157 , 0.7921569 , 0.7372549 ],\n",
       "         [0.85882354, 0.79607844, 0.7294118 ],\n",
       "         [0.85882354, 0.7921569 , 0.7176471 ],\n",
       "         ...,\n",
       "         [0.85882354, 0.79607844, 0.7372549 ],\n",
       "         [0.8627451 , 0.8       , 0.7411765 ],\n",
       "         [0.85490197, 0.7921569 , 0.73333335]],\n",
       "\n",
       "        [[0.83137256, 0.77254903, 0.7176471 ],\n",
       "         [0.84313726, 0.78039217, 0.72156864],\n",
       "         [0.8392157 , 0.7764706 , 0.7137255 ],\n",
       "         ...,\n",
       "         [0.84313726, 0.78039217, 0.72156864],\n",
       "         [0.8509804 , 0.7882353 , 0.7294118 ],\n",
       "         [0.84313726, 0.78039217, 0.72156864]],\n",
       "\n",
       "        [[0.84313726, 0.78039217, 0.72156864],\n",
       "         [0.8509804 , 0.7882353 , 0.7254902 ],\n",
       "         [0.84313726, 0.78039217, 0.7254902 ],\n",
       "         ...,\n",
       "         [0.8509804 , 0.7882353 , 0.7294118 ],\n",
       "         [0.85490197, 0.7921569 , 0.73333335],\n",
       "         [0.84705883, 0.78431374, 0.7254902 ]],\n",
       "\n",
       "        ...,\n",
       "\n",
       "        [[0.85490197, 0.8235294 , 0.78039217],\n",
       "         [0.8627451 , 0.83137256, 0.7882353 ],\n",
       "         [0.85490197, 0.8235294 , 0.78039217],\n",
       "         ...,\n",
       "         [0.87058824, 0.80784315, 0.7372549 ],\n",
       "         [0.84705883, 0.7882353 , 0.65882355],\n",
       "         [0.8352941 , 0.77254903, 0.6       ]],\n",
       "\n",
       "        [[0.85882354, 0.827451  , 0.78431374],\n",
       "         [0.87058824, 0.8392157 , 0.7921569 ],\n",
       "         [0.8627451 , 0.83137256, 0.78431374],\n",
       "         ...,\n",
       "         [0.84705883, 0.8352941 , 0.7764706 ],\n",
       "         [0.8509804 , 0.8392157 , 0.78039217],\n",
       "         [0.8509804 , 0.8235294 , 0.76862746]],\n",
       "\n",
       "        [[0.8666667 , 0.8392157 , 0.78039217],\n",
       "         [0.8784314 , 0.84705883, 0.7882353 ],\n",
       "         [0.87058824, 0.84313726, 0.78431374],\n",
       "         ...,\n",
       "         [0.85490197, 0.83137256, 0.76862746],\n",
       "         [0.85882354, 0.8352941 , 0.77254903],\n",
       "         [0.8509804 , 0.8235294 , 0.7647059 ]]],\n",
       "\n",
       "\n",
       "       [[[0.31764707, 0.46666667, 0.8156863 ],\n",
       "         [0.3254902 , 0.47843137, 0.827451  ],\n",
       "         [0.3254902 , 0.48235294, 0.83137256],\n",
       "         ...,\n",
       "         [0.40392157, 0.5411765 , 0.85882354],\n",
       "         [0.4       , 0.5372549 , 0.85882354],\n",
       "         [0.39215687, 0.5254902 , 0.85490197]],\n",
       "\n",
       "        [[0.3137255 , 0.46666667, 0.827451  ],\n",
       "         [0.31764707, 0.4745098 , 0.8352941 ],\n",
       "         [0.31764707, 0.48235294, 0.84313726],\n",
       "         ...,\n",
       "         [0.41568628, 0.5529412 , 0.8784314 ],\n",
       "         [0.40784314, 0.54901963, 0.8745098 ],\n",
       "         [0.4       , 0.5411765 , 0.87058824]],\n",
       "\n",
       "        [[0.30588236, 0.45882353, 0.827451  ],\n",
       "         [0.30980393, 0.46666667, 0.83137256],\n",
       "         [0.3137255 , 0.47843137, 0.84313726],\n",
       "         ...,\n",
       "         [0.4117647 , 0.54901963, 0.87058824],\n",
       "         [0.40392157, 0.54509807, 0.87058824],\n",
       "         [0.39607844, 0.5372549 , 0.8666667 ]],\n",
       "\n",
       "        ...,\n",
       "\n",
       "        [[0.53333336, 0.50980395, 0.32156864],\n",
       "         [0.5058824 , 0.5019608 , 0.2901961 ],\n",
       "         [0.47843137, 0.48235294, 0.28627452],\n",
       "         ...,\n",
       "         [0.7411765 , 0.65882355, 0.5529412 ],\n",
       "         [0.7294118 , 0.64705884, 0.5372549 ],\n",
       "         [0.6666667 , 0.5882353 , 0.45882353]],\n",
       "\n",
       "        [[0.45882353, 0.42745098, 0.27058825],\n",
       "         [0.43137255, 0.43529412, 0.23529412],\n",
       "         [0.3764706 , 0.39607844, 0.21176471],\n",
       "         ...,\n",
       "         [0.7254902 , 0.65882355, 0.5019608 ],\n",
       "         [0.7058824 , 0.63529414, 0.4862745 ],\n",
       "         [0.6666667 , 0.59607846, 0.43529412]],\n",
       "\n",
       "        [[0.654902  , 0.5921569 , 0.41568628],\n",
       "         [0.6509804 , 0.5882353 , 0.42745098],\n",
       "         [0.64705884, 0.58431375, 0.43529412],\n",
       "         ...,\n",
       "         [0.68235296, 0.6156863 , 0.47058824],\n",
       "         [0.69803923, 0.61960787, 0.49019608],\n",
       "         [0.69803923, 0.6117647 , 0.49019608]]],\n",
       "\n",
       "\n",
       "       [[[0.00392157, 0.00392157, 0.00784314],\n",
       "         [0.05098039, 0.04313726, 0.03137255],\n",
       "         [0.08235294, 0.07058824, 0.03921569],\n",
       "         ...,\n",
       "         [0.        , 0.        , 0.        ],\n",
       "         [0.        , 0.        , 0.        ],\n",
       "         [0.        , 0.        , 0.        ]],\n",
       "\n",
       "        [[0.08627451, 0.07843138, 0.03529412],\n",
       "         [0.31764707, 0.26666668, 0.18039216],\n",
       "         [0.41960785, 0.3372549 , 0.24705882],\n",
       "         ...,\n",
       "         [0.        , 0.        , 0.        ],\n",
       "         [0.        , 0.        , 0.        ],\n",
       "         [0.        , 0.        , 0.        ]],\n",
       "\n",
       "        [[0.3254902 , 0.28627452, 0.19607843],\n",
       "         [0.5372549 , 0.4392157 , 0.28627452],\n",
       "         [0.57254905, 0.42745098, 0.2784314 ],\n",
       "         ...,\n",
       "         [0.        , 0.        , 0.        ],\n",
       "         [0.        , 0.        , 0.        ],\n",
       "         [0.        , 0.        , 0.        ]],\n",
       "\n",
       "        ...,\n",
       "\n",
       "        [[0.        , 0.        , 0.        ],\n",
       "         [0.        , 0.        , 0.        ],\n",
       "         [0.        , 0.        , 0.        ],\n",
       "         ...,\n",
       "         [0.        , 0.        , 0.        ],\n",
       "         [0.        , 0.        , 0.        ],\n",
       "         [0.        , 0.        , 0.        ]],\n",
       "\n",
       "        [[0.        , 0.        , 0.        ],\n",
       "         [0.        , 0.        , 0.        ],\n",
       "         [0.        , 0.        , 0.        ],\n",
       "         ...,\n",
       "         [0.        , 0.        , 0.        ],\n",
       "         [0.        , 0.        , 0.        ],\n",
       "         [0.        , 0.        , 0.        ]],\n",
       "\n",
       "        [[0.        , 0.        , 0.        ],\n",
       "         [0.        , 0.        , 0.        ],\n",
       "         [0.        , 0.        , 0.        ],\n",
       "         ...,\n",
       "         [0.        , 0.        , 0.        ],\n",
       "         [0.        , 0.        , 0.        ],\n",
       "         [0.        , 0.        , 0.        ]]]], dtype=float32)"
      ]
     },
     "execution_count": 36,
     "metadata": {},
     "output_type": "execute_result"
    }
   ],
   "source": [
    "# Your code here\n",
    "import numpy as np\n",
    "from sklearn.model_selection import train_test_split\n",
    "from sklearn.preprocessing import OneHotEncoder\n",
    "\n",
    "# Normalize the images\n",
    "X_train_normalized = X_train.astype('float32') / 255.0\n",
    "X_test_normalized = X_test.astype('float32') / 255.0\n",
    "\n",
    "print(f\"Min pixel value: {X_train_normalized.min()}\")\n",
    "print(f\"Max pixel value: {X_train_normalized.max()}\")\n",
    "\n",
    "print(f\"Unique labels in y_train: {np.unique(y_train)}\")\n",
    "\n",
    "# One Hot encode\n",
    "y_train_one_hot = np.eye(100)[y_train]\n",
    "y_train_one_hot\n",
    "\n",
    "# Split training set\n",
    "X_train_array, X_test_array, y_train_array, y_test_array = train_test_split(\n",
    "    X_train_normalized, y_train_one_hot, test_size=0.2, random_state=37)\n",
    "\n",
    "X_train_array"
   ]
  },
  {
   "cell_type": "markdown",
   "id": "5993757f08c89db7",
   "metadata": {
    "collapsed": false
   },
   "source": [
    "## Task 2: Model Development (Complete or Incomplete)\n",
    "### Task 2a: Create a Baseline CNN Model\n",
    "- Design a CNN architecture. Your architecture should use convolutional layers, max pooling layers, and dense layers. You can use any number of layers, and you can experiment with different numbers of filters, filter sizes, strides, padding, etc. The design doesn't need to be perfect, but it should be unique to you.\n",
    "- Print out the model summary."
   ]
  },
  {
   "cell_type": "code",
   "execution_count": 37,
   "id": "c9edafdaf887b8d5",
   "metadata": {
    "collapsed": false
   },
   "outputs": [
    {
     "name": "stdout",
     "output_type": "stream",
     "text": [
      "Model: \"sequential\"\n",
      "_________________________________________________________________\n",
      " Layer (type)                Output Shape              Param #   \n",
      "=================================================================\n",
      " conv2d (Conv2D)             (None, 64, 64, 32)        896       \n",
      "                                                                 \n",
      " max_pooling2d (MaxPooling2D  (None, 32, 32, 32)       0         \n",
      " )                                                               \n",
      "                                                                 \n",
      " conv2d_1 (Conv2D)           (None, 32, 32, 64)        18496     \n",
      "                                                                 \n",
      " max_pooling2d_1 (MaxPooling  (None, 16, 16, 64)       0         \n",
      " 2D)                                                             \n",
      "                                                                 \n",
      " conv2d_2 (Conv2D)           (None, 16, 16, 128)       73856     \n",
      "                                                                 \n",
      " max_pooling2d_2 (MaxPooling  (None, 8, 8, 128)        0         \n",
      " 2D)                                                             \n",
      "                                                                 \n",
      " flatten (Flatten)           (None, 8192)              0         \n",
      "                                                                 \n",
      " dense (Dense)               (None, 128)               1048704   \n",
      "                                                                 \n",
      " dropout (Dropout)           (None, 128)               0         \n",
      "                                                                 \n",
      " dense_1 (Dense)             (None, 64)                8256      \n",
      "                                                                 \n",
      " dense_2 (Dense)             (None, 10)                650       \n",
      "                                                                 \n",
      "=================================================================\n",
      "Total params: 1,150,858\n",
      "Trainable params: 1,150,858\n",
      "Non-trainable params: 0\n",
      "_________________________________________________________________\n"
     ]
    }
   ],
   "source": [
    "from keras.models import Sequential\n",
    "from keras.layers import Conv2D, MaxPooling2D, Flatten, Dense, Dropout\n",
    "\n",
    "# Your code here\n",
    "\n",
    "# Initialize the model\n",
    "model = Sequential()\n",
    "\n",
    "# First Convolutional Block\n",
    "model.add(Conv2D(filters=32, kernel_size=(3, 3), strides=(1, 1), padding='same', activation='relu', input_shape=(64, 64, 3)))\n",
    "model.add(MaxPooling2D(pool_size=(2, 2), strides=(2, 2)))\n",
    "\n",
    "# Second Convolutional Block\n",
    "model.add(Conv2D(filters=64, kernel_size=(3, 3), strides=(1, 1), padding='same', activation='relu'))\n",
    "model.add(MaxPooling2D(pool_size=(2, 2), strides=(2, 2)))\n",
    "\n",
    "# Third Convolutional Block\n",
    "model.add(Conv2D(filters=128, kernel_size=(3, 3), strides=(1, 1), padding='same', activation='relu'))\n",
    "model.add(MaxPooling2D(pool_size=(2, 2), strides=(2, 2)))\n",
    "\n",
    "# Flatten the output\n",
    "model.add(Flatten())\n",
    "\n",
    "# Dense Layers\n",
    "model.add(Dense(128, activation='relu'))\n",
    "model.add(Dropout(0.5))  # Dropout for regularization\n",
    "model.add(Dense(64, activation='relu'))\n",
    "model.add(Dense(10, activation='softmax'))  # Assuming 10 classes for classification\n",
    "\n",
    "# Compile the model\n",
    "model.compile(optimizer='adam', loss='categorical_crossentropy', metrics=['accuracy'])\n",
    "\n",
    "# Print the model summary\n",
    "model.summary()\n"
   ]
  },
  {
   "cell_type": "markdown",
   "id": "546324c007c73db5",
   "metadata": {
    "collapsed": false
   },
   "source": [
    "### Task 2b: Compile the model\n",
    "\n",
    "- Select an appropriate loss function and optimizer for your model. These can be ones we have looked at already, or they can be different. \n",
    "- Briefly explain your choices (one or two sentences each).\n",
    "- <b>Loss function:</b> ______\n",
    "- <b>Optimizer:</b> ______"
   ]
  },
  {
   "cell_type": "code",
   "execution_count": null,
   "id": "ab39f4ba69d684e9",
   "metadata": {
    "collapsed": false
   },
   "outputs": [],
   "source": [
    "from keras import optimizers\n",
    "\n",
    "# Your code here"
   ]
  },
  {
   "cell_type": "markdown",
   "id": "653fba928413b9f6",
   "metadata": {
    "collapsed": false
   },
   "source": [
    "## Task 3: Model Training and Evaluation (Complete or Incomplete)\n",
    "### Task 3a: Train the Model\n",
    "\n",
    "- Train your model for an appropriate number of epochs. Explain your choice of the number of epochs used - you can change this number before submitting your assignment.\n",
    "- Use a batch size of 32.\n",
    "- Use the validation set for validation."
   ]
  },
  {
   "cell_type": "code",
   "execution_count": null,
   "id": "9de74f274ad08546",
   "metadata": {
    "collapsed": false
   },
   "outputs": [],
   "source": [
    "# Your code here"
   ]
  },
  {
   "cell_type": "markdown",
   "id": "b48615c26b99d2e9",
   "metadata": {
    "collapsed": false
   },
   "source": [
    "### Task 3b: Accuracy and other relevant metrics on the test set\n",
    "\n",
    "- Report the accuracy of your model on the test set.\n",
    "- While accuracy is a good metric, there are many other ways to numerically evaluate a model. Report at least one other metric, and explain what it measures and how it is calculated.\n",
    "\n",
    "- <b>Accuracy:</b> ______\n",
    "- <b>Other metric:</b> ______\n",
    "- <b>Reason for selection:</b> _____\n",
    "- <b>Value of metric:</b> ______\n",
    "- <b>Interpretation of metric value:</b> ______"
   ]
  },
  {
   "cell_type": "code",
   "execution_count": 1,
   "id": "f670665fda92fb0e",
   "metadata": {
    "ExecuteTime": {
     "end_time": "2024-01-26T17:49:39.016880Z",
     "start_time": "2024-01-26T17:49:39.012100Z"
    },
    "collapsed": false
   },
   "outputs": [],
   "source": [
    "# Your code here"
   ]
  },
  {
   "cell_type": "markdown",
   "id": "58d2d836d4e8ce99",
   "metadata": {
    "collapsed": false
   },
   "source": [
    "### Task 3c: Visualize the model's learning\n",
    "\n",
    "- Plot the training accuracy and validation accuracy with respect to epochs.\n",
    "- Select an image that the model correctly classified in the test set, and an image that the model incorrectly classified in the test set. Plot the images and report the model's classification probabilities for each.\n",
    "- Briefly discuss the results. What do the plots show? Do the results make sense? What do the classification probabilities indicate?"
   ]
  },
  {
   "cell_type": "code",
   "execution_count": 2,
   "id": "c5b214475a496ca5",
   "metadata": {
    "ExecuteTime": {
     "end_time": "2024-01-26T17:50:59.733968Z",
     "start_time": "2024-01-26T17:50:59.730635Z"
    },
    "collapsed": false
   },
   "outputs": [],
   "source": [
    "# Your code here"
   ]
  },
  {
   "cell_type": "markdown",
   "id": "a648758ebea0561d",
   "metadata": {
    "collapsed": false
   },
   "source": [
    "## Task 4: Model Enhancement (Complete or Incomplete)\n",
    "### Task 4a: Implementation of at least one advanced technique\n",
    "\n",
    "- Now it's time to improve your model. Implement at least one technique to improve your model's performance. You can use any of the techniques we have covered in class, or you can use a technique that we haven't covered. If you need inspiration, you can refer to the [Keras documentation](https://keras.io/).\n",
    "- Explain the technique you used and why you chose it.\n",
    "- If you used a technique that requires tuning, explain how you selected the values for the hyperparameters."
   ]
  },
  {
   "cell_type": "code",
   "execution_count": null,
   "id": "f3659ac83122567f",
   "metadata": {
    "collapsed": false
   },
   "outputs": [],
   "source": [
    "# Your code here"
   ]
  },
  {
   "cell_type": "markdown",
   "id": "d9467a483a1dd5d3",
   "metadata": {
    "collapsed": false
   },
   "source": [
    "### Task 4b: Evaluation of the enhanced model\n",
    "\n",
    "- Re-train your model using the same number of epochs as before.\n",
    "- Compare the accuracy and other selected metric on the test set to the results you obtained before.\n",
    "- As before, plot the training accuracy and validation accuracy with respect to epochs, and select an image that the model correctly classified in the test set, and an image that the model incorrectly classified in the test set. Plot the images and report the model's classification probabilities for each."
   ]
  },
  {
   "cell_type": "code",
   "execution_count": null,
   "id": "7c4701b36dc8fc55",
   "metadata": {
    "collapsed": false
   },
   "outputs": [],
   "source": [
    "# Your code here"
   ]
  },
  {
   "cell_type": "markdown",
   "id": "eadfc848700215e8",
   "metadata": {
    "collapsed": false
   },
   "source": [
    "### Task 4c: Discussion of the results\n",
    "\n",
    "- Briefly discuss the results. \n",
    "- Did the model's performance improve? \n",
    "- Why do you think this is?\n",
    "- Do you think there is room for further improvement? Why or why not?\n",
    "- What other techniques might you try in the future?\n",
    "- Your answer should be no more than 200 words.\n",
    "\n",
    "# Your answer here"
   ]
  },
  {
   "cell_type": "markdown",
   "id": "7415f68f",
   "metadata": {},
   "source": [
    "## Criteria\n",
    "\n",
    "|Criteria|Complete|Incomplete|\n",
    "|----|----|----|\n",
    "|Task 1|The task has been completed successfully and there are no errors.|The task is still incomplete and there is at least one error.|\n",
    "|Task 2|The task has been completed successfully and there are no errors.|The task is still incomplete and there is at least one error.|\n",
    "|Task 3|The task has been completed successfully and there are no errors.|The task is still incomplete and there is at least one error.|\n",
    "|Task 4|The task has been completed successfully and there are no errors.|The task is still incomplete and there is at least one error.|"
   ]
  },
  {
   "cell_type": "markdown",
   "id": "ad0c10bc",
   "metadata": {},
   "source": [
    "## Submission Information\n",
    "\n",
    "🚨 **Please review our [Assignment Submission Guide](https://github.com/UofT-DSI/onboarding/blob/main/onboarding_documents/submissions.md)** 🚨 for detailed instructions on how to format, branch, and submit your work. Following these guidelines is crucial for your submissions to be evaluated correctly.\n",
    "\n",
    "### Submission Parameters:\n",
    "* Submission Due Date: `HH:MM AM/PM - DD/MM/YYYY`\n",
    "* The branch name for your repo should be: `assignment-1`\n",
    "* What to submit for this assignment:\n",
    "    * This Jupyter Notebook (assignment_1.ipynb) should be populated and should be the only change in your pull request.\n",
    "* What the pull request link should look like for this assignment: `https://github.com/<your_github_username>/deep_learning/pull/<pr_id>`\n",
    "    * Open a private window in your browser. Copy and paste the link to your pull request into the address bar. Make sure you can see your pull request properly. This helps the technical facilitator and learning support staff review your submission easily.\n",
    "\n",
    "Checklist:\n",
    "- [ ] Created a branch with the correct naming convention.\n",
    "- [ ] Ensured that the repository is public.\n",
    "- [ ] Reviewed the PR description guidelines and adhered to them.\n",
    "- [ ] Verify that the link is accessible in a private browser window.\n",
    "\n",
    "If you encounter any difficulties or have questions, please don't hesitate to reach out to our team via our Slack at `#cohort-3-help`. Our Technical Facilitators and Learning Support staff are here to help you navigate any challenges."
   ]
  }
 ],
 "metadata": {
  "kernelspec": {
   "display_name": "dsi_participant",
   "language": "python",
   "name": "python3"
  },
  "language_info": {
   "codemirror_mode": {
    "name": "ipython",
    "version": 3
   },
   "file_extension": ".py",
   "mimetype": "text/x-python",
   "name": "python",
   "nbconvert_exporter": "python",
   "pygments_lexer": "ipython3",
   "version": "3.9.15"
  }
 },
 "nbformat": 4,
 "nbformat_minor": 5
}
